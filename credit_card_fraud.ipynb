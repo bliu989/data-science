{
 "cells": [
  {
   "cell_type": "markdown",
   "id": "a4845225",
   "metadata": {},
   "source": [
    "The [dataset](https://www.kaggle.com/datasets/mlg-ulb/creditcardfraud/data) I'm using contains 284,807 credit card transactions from September 2013. Out of these transactions, 492 are fraudulent. The variables included in this dataset are Time, Amount, and 28 other variables that are the result of a Principal Component Analysis (PCA), as well as whether the transaction was fraudulent or not. The goal is to create a model that can detect fraudulent credit card transactions. "
   ]
  },
  {
   "cell_type": "markdown",
   "id": "278b0a30",
   "metadata": {},
   "source": [
    "# Import data"
   ]
  },
  {
   "cell_type": "code",
   "execution_count": 215,
   "id": "4dad79f7",
   "metadata": {},
   "outputs": [],
   "source": [
    "import pandas as pd\n",
    "import numpy as np\n",
    "import seaborn as sns\n",
    "import matplotlib.pyplot as plt\n",
    "from scipy.stats import boxcox"
   ]
  },
  {
   "cell_type": "code",
   "execution_count": 506,
   "id": "eb0c1dc3",
   "metadata": {},
   "outputs": [],
   "source": [
    "df = pd.read_csv('creditcard.csv')"
   ]
  },
  {
   "cell_type": "code",
   "execution_count": 217,
   "id": "7dc32e95",
   "metadata": {},
   "outputs": [
    {
     "data": {
      "text/html": [
       "<div>\n",
       "<style scoped>\n",
       "    .dataframe tbody tr th:only-of-type {\n",
       "        vertical-align: middle;\n",
       "    }\n",
       "\n",
       "    .dataframe tbody tr th {\n",
       "        vertical-align: top;\n",
       "    }\n",
       "\n",
       "    .dataframe thead th {\n",
       "        text-align: right;\n",
       "    }\n",
       "</style>\n",
       "<table border=\"1\" class=\"dataframe\">\n",
       "  <thead>\n",
       "    <tr style=\"text-align: right;\">\n",
       "      <th></th>\n",
       "      <th>Time</th>\n",
       "      <th>V1</th>\n",
       "      <th>V2</th>\n",
       "      <th>V3</th>\n",
       "      <th>V4</th>\n",
       "      <th>V5</th>\n",
       "      <th>V6</th>\n",
       "      <th>V7</th>\n",
       "      <th>V8</th>\n",
       "      <th>V9</th>\n",
       "      <th>...</th>\n",
       "      <th>V21</th>\n",
       "      <th>V22</th>\n",
       "      <th>V23</th>\n",
       "      <th>V24</th>\n",
       "      <th>V25</th>\n",
       "      <th>V26</th>\n",
       "      <th>V27</th>\n",
       "      <th>V28</th>\n",
       "      <th>Amount</th>\n",
       "      <th>Class</th>\n",
       "    </tr>\n",
       "  </thead>\n",
       "  <tbody>\n",
       "    <tr>\n",
       "      <th>0</th>\n",
       "      <td>0.0</td>\n",
       "      <td>-1.359807</td>\n",
       "      <td>-0.072781</td>\n",
       "      <td>2.536347</td>\n",
       "      <td>1.378155</td>\n",
       "      <td>-0.338321</td>\n",
       "      <td>0.462388</td>\n",
       "      <td>0.239599</td>\n",
       "      <td>0.098698</td>\n",
       "      <td>0.363787</td>\n",
       "      <td>...</td>\n",
       "      <td>-0.018307</td>\n",
       "      <td>0.277838</td>\n",
       "      <td>-0.110474</td>\n",
       "      <td>0.066928</td>\n",
       "      <td>0.128539</td>\n",
       "      <td>-0.189115</td>\n",
       "      <td>0.133558</td>\n",
       "      <td>-0.021053</td>\n",
       "      <td>149.62</td>\n",
       "      <td>0</td>\n",
       "    </tr>\n",
       "    <tr>\n",
       "      <th>1</th>\n",
       "      <td>0.0</td>\n",
       "      <td>1.191857</td>\n",
       "      <td>0.266151</td>\n",
       "      <td>0.166480</td>\n",
       "      <td>0.448154</td>\n",
       "      <td>0.060018</td>\n",
       "      <td>-0.082361</td>\n",
       "      <td>-0.078803</td>\n",
       "      <td>0.085102</td>\n",
       "      <td>-0.255425</td>\n",
       "      <td>...</td>\n",
       "      <td>-0.225775</td>\n",
       "      <td>-0.638672</td>\n",
       "      <td>0.101288</td>\n",
       "      <td>-0.339846</td>\n",
       "      <td>0.167170</td>\n",
       "      <td>0.125895</td>\n",
       "      <td>-0.008983</td>\n",
       "      <td>0.014724</td>\n",
       "      <td>2.69</td>\n",
       "      <td>0</td>\n",
       "    </tr>\n",
       "    <tr>\n",
       "      <th>2</th>\n",
       "      <td>1.0</td>\n",
       "      <td>-1.358354</td>\n",
       "      <td>-1.340163</td>\n",
       "      <td>1.773209</td>\n",
       "      <td>0.379780</td>\n",
       "      <td>-0.503198</td>\n",
       "      <td>1.800499</td>\n",
       "      <td>0.791461</td>\n",
       "      <td>0.247676</td>\n",
       "      <td>-1.514654</td>\n",
       "      <td>...</td>\n",
       "      <td>0.247998</td>\n",
       "      <td>0.771679</td>\n",
       "      <td>0.909412</td>\n",
       "      <td>-0.689281</td>\n",
       "      <td>-0.327642</td>\n",
       "      <td>-0.139097</td>\n",
       "      <td>-0.055353</td>\n",
       "      <td>-0.059752</td>\n",
       "      <td>378.66</td>\n",
       "      <td>0</td>\n",
       "    </tr>\n",
       "    <tr>\n",
       "      <th>3</th>\n",
       "      <td>1.0</td>\n",
       "      <td>-0.966272</td>\n",
       "      <td>-0.185226</td>\n",
       "      <td>1.792993</td>\n",
       "      <td>-0.863291</td>\n",
       "      <td>-0.010309</td>\n",
       "      <td>1.247203</td>\n",
       "      <td>0.237609</td>\n",
       "      <td>0.377436</td>\n",
       "      <td>-1.387024</td>\n",
       "      <td>...</td>\n",
       "      <td>-0.108300</td>\n",
       "      <td>0.005274</td>\n",
       "      <td>-0.190321</td>\n",
       "      <td>-1.175575</td>\n",
       "      <td>0.647376</td>\n",
       "      <td>-0.221929</td>\n",
       "      <td>0.062723</td>\n",
       "      <td>0.061458</td>\n",
       "      <td>123.50</td>\n",
       "      <td>0</td>\n",
       "    </tr>\n",
       "    <tr>\n",
       "      <th>4</th>\n",
       "      <td>2.0</td>\n",
       "      <td>-1.158233</td>\n",
       "      <td>0.877737</td>\n",
       "      <td>1.548718</td>\n",
       "      <td>0.403034</td>\n",
       "      <td>-0.407193</td>\n",
       "      <td>0.095921</td>\n",
       "      <td>0.592941</td>\n",
       "      <td>-0.270533</td>\n",
       "      <td>0.817739</td>\n",
       "      <td>...</td>\n",
       "      <td>-0.009431</td>\n",
       "      <td>0.798278</td>\n",
       "      <td>-0.137458</td>\n",
       "      <td>0.141267</td>\n",
       "      <td>-0.206010</td>\n",
       "      <td>0.502292</td>\n",
       "      <td>0.219422</td>\n",
       "      <td>0.215153</td>\n",
       "      <td>69.99</td>\n",
       "      <td>0</td>\n",
       "    </tr>\n",
       "  </tbody>\n",
       "</table>\n",
       "<p>5 rows × 31 columns</p>\n",
       "</div>"
      ],
      "text/plain": [
       "   Time        V1        V2        V3        V4        V5        V6        V7   \n",
       "0   0.0 -1.359807 -0.072781  2.536347  1.378155 -0.338321  0.462388  0.239599  \\\n",
       "1   0.0  1.191857  0.266151  0.166480  0.448154  0.060018 -0.082361 -0.078803   \n",
       "2   1.0 -1.358354 -1.340163  1.773209  0.379780 -0.503198  1.800499  0.791461   \n",
       "3   1.0 -0.966272 -0.185226  1.792993 -0.863291 -0.010309  1.247203  0.237609   \n",
       "4   2.0 -1.158233  0.877737  1.548718  0.403034 -0.407193  0.095921  0.592941   \n",
       "\n",
       "         V8        V9  ...       V21       V22       V23       V24       V25   \n",
       "0  0.098698  0.363787  ... -0.018307  0.277838 -0.110474  0.066928  0.128539  \\\n",
       "1  0.085102 -0.255425  ... -0.225775 -0.638672  0.101288 -0.339846  0.167170   \n",
       "2  0.247676 -1.514654  ...  0.247998  0.771679  0.909412 -0.689281 -0.327642   \n",
       "3  0.377436 -1.387024  ... -0.108300  0.005274 -0.190321 -1.175575  0.647376   \n",
       "4 -0.270533  0.817739  ... -0.009431  0.798278 -0.137458  0.141267 -0.206010   \n",
       "\n",
       "        V26       V27       V28  Amount  Class  \n",
       "0 -0.189115  0.133558 -0.021053  149.62      0  \n",
       "1  0.125895 -0.008983  0.014724    2.69      0  \n",
       "2 -0.139097 -0.055353 -0.059752  378.66      0  \n",
       "3 -0.221929  0.062723  0.061458  123.50      0  \n",
       "4  0.502292  0.219422  0.215153   69.99      0  \n",
       "\n",
       "[5 rows x 31 columns]"
      ]
     },
     "execution_count": 217,
     "metadata": {},
     "output_type": "execute_result"
    }
   ],
   "source": [
    "df.head()"
   ]
  },
  {
   "cell_type": "code",
   "execution_count": 218,
   "id": "b64d9e20",
   "metadata": {},
   "outputs": [
    {
     "data": {
      "text/html": [
       "<div>\n",
       "<style scoped>\n",
       "    .dataframe tbody tr th:only-of-type {\n",
       "        vertical-align: middle;\n",
       "    }\n",
       "\n",
       "    .dataframe tbody tr th {\n",
       "        vertical-align: top;\n",
       "    }\n",
       "\n",
       "    .dataframe thead th {\n",
       "        text-align: right;\n",
       "    }\n",
       "</style>\n",
       "<table border=\"1\" class=\"dataframe\">\n",
       "  <thead>\n",
       "    <tr style=\"text-align: right;\">\n",
       "      <th></th>\n",
       "      <th>Time</th>\n",
       "      <th>V1</th>\n",
       "      <th>V2</th>\n",
       "      <th>V3</th>\n",
       "      <th>V4</th>\n",
       "      <th>V5</th>\n",
       "      <th>V6</th>\n",
       "      <th>V7</th>\n",
       "      <th>V8</th>\n",
       "      <th>V9</th>\n",
       "      <th>...</th>\n",
       "      <th>V21</th>\n",
       "      <th>V22</th>\n",
       "      <th>V23</th>\n",
       "      <th>V24</th>\n",
       "      <th>V25</th>\n",
       "      <th>V26</th>\n",
       "      <th>V27</th>\n",
       "      <th>V28</th>\n",
       "      <th>Amount</th>\n",
       "      <th>Class</th>\n",
       "    </tr>\n",
       "  </thead>\n",
       "  <tbody>\n",
       "    <tr>\n",
       "      <th>count</th>\n",
       "      <td>284807.000000</td>\n",
       "      <td>2.848070e+05</td>\n",
       "      <td>2.848070e+05</td>\n",
       "      <td>2.848070e+05</td>\n",
       "      <td>2.848070e+05</td>\n",
       "      <td>2.848070e+05</td>\n",
       "      <td>2.848070e+05</td>\n",
       "      <td>2.848070e+05</td>\n",
       "      <td>2.848070e+05</td>\n",
       "      <td>2.848070e+05</td>\n",
       "      <td>...</td>\n",
       "      <td>2.848070e+05</td>\n",
       "      <td>2.848070e+05</td>\n",
       "      <td>2.848070e+05</td>\n",
       "      <td>2.848070e+05</td>\n",
       "      <td>2.848070e+05</td>\n",
       "      <td>2.848070e+05</td>\n",
       "      <td>2.848070e+05</td>\n",
       "      <td>2.848070e+05</td>\n",
       "      <td>284807.000000</td>\n",
       "      <td>284807.000000</td>\n",
       "    </tr>\n",
       "    <tr>\n",
       "      <th>mean</th>\n",
       "      <td>94813.859575</td>\n",
       "      <td>1.168375e-15</td>\n",
       "      <td>3.416908e-16</td>\n",
       "      <td>-1.379537e-15</td>\n",
       "      <td>2.074095e-15</td>\n",
       "      <td>9.604066e-16</td>\n",
       "      <td>1.487313e-15</td>\n",
       "      <td>-5.556467e-16</td>\n",
       "      <td>1.213481e-16</td>\n",
       "      <td>-2.406331e-15</td>\n",
       "      <td>...</td>\n",
       "      <td>1.654067e-16</td>\n",
       "      <td>-3.568593e-16</td>\n",
       "      <td>2.578648e-16</td>\n",
       "      <td>4.473266e-15</td>\n",
       "      <td>5.340915e-16</td>\n",
       "      <td>1.683437e-15</td>\n",
       "      <td>-3.660091e-16</td>\n",
       "      <td>-1.227390e-16</td>\n",
       "      <td>88.349619</td>\n",
       "      <td>0.001727</td>\n",
       "    </tr>\n",
       "    <tr>\n",
       "      <th>std</th>\n",
       "      <td>47488.145955</td>\n",
       "      <td>1.958696e+00</td>\n",
       "      <td>1.651309e+00</td>\n",
       "      <td>1.516255e+00</td>\n",
       "      <td>1.415869e+00</td>\n",
       "      <td>1.380247e+00</td>\n",
       "      <td>1.332271e+00</td>\n",
       "      <td>1.237094e+00</td>\n",
       "      <td>1.194353e+00</td>\n",
       "      <td>1.098632e+00</td>\n",
       "      <td>...</td>\n",
       "      <td>7.345240e-01</td>\n",
       "      <td>7.257016e-01</td>\n",
       "      <td>6.244603e-01</td>\n",
       "      <td>6.056471e-01</td>\n",
       "      <td>5.212781e-01</td>\n",
       "      <td>4.822270e-01</td>\n",
       "      <td>4.036325e-01</td>\n",
       "      <td>3.300833e-01</td>\n",
       "      <td>250.120109</td>\n",
       "      <td>0.041527</td>\n",
       "    </tr>\n",
       "    <tr>\n",
       "      <th>min</th>\n",
       "      <td>0.000000</td>\n",
       "      <td>-5.640751e+01</td>\n",
       "      <td>-7.271573e+01</td>\n",
       "      <td>-4.832559e+01</td>\n",
       "      <td>-5.683171e+00</td>\n",
       "      <td>-1.137433e+02</td>\n",
       "      <td>-2.616051e+01</td>\n",
       "      <td>-4.355724e+01</td>\n",
       "      <td>-7.321672e+01</td>\n",
       "      <td>-1.343407e+01</td>\n",
       "      <td>...</td>\n",
       "      <td>-3.483038e+01</td>\n",
       "      <td>-1.093314e+01</td>\n",
       "      <td>-4.480774e+01</td>\n",
       "      <td>-2.836627e+00</td>\n",
       "      <td>-1.029540e+01</td>\n",
       "      <td>-2.604551e+00</td>\n",
       "      <td>-2.256568e+01</td>\n",
       "      <td>-1.543008e+01</td>\n",
       "      <td>0.000000</td>\n",
       "      <td>0.000000</td>\n",
       "    </tr>\n",
       "    <tr>\n",
       "      <th>25%</th>\n",
       "      <td>54201.500000</td>\n",
       "      <td>-9.203734e-01</td>\n",
       "      <td>-5.985499e-01</td>\n",
       "      <td>-8.903648e-01</td>\n",
       "      <td>-8.486401e-01</td>\n",
       "      <td>-6.915971e-01</td>\n",
       "      <td>-7.682956e-01</td>\n",
       "      <td>-5.540759e-01</td>\n",
       "      <td>-2.086297e-01</td>\n",
       "      <td>-6.430976e-01</td>\n",
       "      <td>...</td>\n",
       "      <td>-2.283949e-01</td>\n",
       "      <td>-5.423504e-01</td>\n",
       "      <td>-1.618463e-01</td>\n",
       "      <td>-3.545861e-01</td>\n",
       "      <td>-3.171451e-01</td>\n",
       "      <td>-3.269839e-01</td>\n",
       "      <td>-7.083953e-02</td>\n",
       "      <td>-5.295979e-02</td>\n",
       "      <td>5.600000</td>\n",
       "      <td>0.000000</td>\n",
       "    </tr>\n",
       "    <tr>\n",
       "      <th>50%</th>\n",
       "      <td>84692.000000</td>\n",
       "      <td>1.810880e-02</td>\n",
       "      <td>6.548556e-02</td>\n",
       "      <td>1.798463e-01</td>\n",
       "      <td>-1.984653e-02</td>\n",
       "      <td>-5.433583e-02</td>\n",
       "      <td>-2.741871e-01</td>\n",
       "      <td>4.010308e-02</td>\n",
       "      <td>2.235804e-02</td>\n",
       "      <td>-5.142873e-02</td>\n",
       "      <td>...</td>\n",
       "      <td>-2.945017e-02</td>\n",
       "      <td>6.781943e-03</td>\n",
       "      <td>-1.119293e-02</td>\n",
       "      <td>4.097606e-02</td>\n",
       "      <td>1.659350e-02</td>\n",
       "      <td>-5.213911e-02</td>\n",
       "      <td>1.342146e-03</td>\n",
       "      <td>1.124383e-02</td>\n",
       "      <td>22.000000</td>\n",
       "      <td>0.000000</td>\n",
       "    </tr>\n",
       "    <tr>\n",
       "      <th>75%</th>\n",
       "      <td>139320.500000</td>\n",
       "      <td>1.315642e+00</td>\n",
       "      <td>8.037239e-01</td>\n",
       "      <td>1.027196e+00</td>\n",
       "      <td>7.433413e-01</td>\n",
       "      <td>6.119264e-01</td>\n",
       "      <td>3.985649e-01</td>\n",
       "      <td>5.704361e-01</td>\n",
       "      <td>3.273459e-01</td>\n",
       "      <td>5.971390e-01</td>\n",
       "      <td>...</td>\n",
       "      <td>1.863772e-01</td>\n",
       "      <td>5.285536e-01</td>\n",
       "      <td>1.476421e-01</td>\n",
       "      <td>4.395266e-01</td>\n",
       "      <td>3.507156e-01</td>\n",
       "      <td>2.409522e-01</td>\n",
       "      <td>9.104512e-02</td>\n",
       "      <td>7.827995e-02</td>\n",
       "      <td>77.165000</td>\n",
       "      <td>0.000000</td>\n",
       "    </tr>\n",
       "    <tr>\n",
       "      <th>max</th>\n",
       "      <td>172792.000000</td>\n",
       "      <td>2.454930e+00</td>\n",
       "      <td>2.205773e+01</td>\n",
       "      <td>9.382558e+00</td>\n",
       "      <td>1.687534e+01</td>\n",
       "      <td>3.480167e+01</td>\n",
       "      <td>7.330163e+01</td>\n",
       "      <td>1.205895e+02</td>\n",
       "      <td>2.000721e+01</td>\n",
       "      <td>1.559499e+01</td>\n",
       "      <td>...</td>\n",
       "      <td>2.720284e+01</td>\n",
       "      <td>1.050309e+01</td>\n",
       "      <td>2.252841e+01</td>\n",
       "      <td>4.584549e+00</td>\n",
       "      <td>7.519589e+00</td>\n",
       "      <td>3.517346e+00</td>\n",
       "      <td>3.161220e+01</td>\n",
       "      <td>3.384781e+01</td>\n",
       "      <td>25691.160000</td>\n",
       "      <td>1.000000</td>\n",
       "    </tr>\n",
       "  </tbody>\n",
       "</table>\n",
       "<p>8 rows × 31 columns</p>\n",
       "</div>"
      ],
      "text/plain": [
       "                Time            V1            V2            V3            V4   \n",
       "count  284807.000000  2.848070e+05  2.848070e+05  2.848070e+05  2.848070e+05  \\\n",
       "mean    94813.859575  1.168375e-15  3.416908e-16 -1.379537e-15  2.074095e-15   \n",
       "std     47488.145955  1.958696e+00  1.651309e+00  1.516255e+00  1.415869e+00   \n",
       "min         0.000000 -5.640751e+01 -7.271573e+01 -4.832559e+01 -5.683171e+00   \n",
       "25%     54201.500000 -9.203734e-01 -5.985499e-01 -8.903648e-01 -8.486401e-01   \n",
       "50%     84692.000000  1.810880e-02  6.548556e-02  1.798463e-01 -1.984653e-02   \n",
       "75%    139320.500000  1.315642e+00  8.037239e-01  1.027196e+00  7.433413e-01   \n",
       "max    172792.000000  2.454930e+00  2.205773e+01  9.382558e+00  1.687534e+01   \n",
       "\n",
       "                 V5            V6            V7            V8            V9   \n",
       "count  2.848070e+05  2.848070e+05  2.848070e+05  2.848070e+05  2.848070e+05  \\\n",
       "mean   9.604066e-16  1.487313e-15 -5.556467e-16  1.213481e-16 -2.406331e-15   \n",
       "std    1.380247e+00  1.332271e+00  1.237094e+00  1.194353e+00  1.098632e+00   \n",
       "min   -1.137433e+02 -2.616051e+01 -4.355724e+01 -7.321672e+01 -1.343407e+01   \n",
       "25%   -6.915971e-01 -7.682956e-01 -5.540759e-01 -2.086297e-01 -6.430976e-01   \n",
       "50%   -5.433583e-02 -2.741871e-01  4.010308e-02  2.235804e-02 -5.142873e-02   \n",
       "75%    6.119264e-01  3.985649e-01  5.704361e-01  3.273459e-01  5.971390e-01   \n",
       "max    3.480167e+01  7.330163e+01  1.205895e+02  2.000721e+01  1.559499e+01   \n",
       "\n",
       "       ...           V21           V22           V23           V24   \n",
       "count  ...  2.848070e+05  2.848070e+05  2.848070e+05  2.848070e+05  \\\n",
       "mean   ...  1.654067e-16 -3.568593e-16  2.578648e-16  4.473266e-15   \n",
       "std    ...  7.345240e-01  7.257016e-01  6.244603e-01  6.056471e-01   \n",
       "min    ... -3.483038e+01 -1.093314e+01 -4.480774e+01 -2.836627e+00   \n",
       "25%    ... -2.283949e-01 -5.423504e-01 -1.618463e-01 -3.545861e-01   \n",
       "50%    ... -2.945017e-02  6.781943e-03 -1.119293e-02  4.097606e-02   \n",
       "75%    ...  1.863772e-01  5.285536e-01  1.476421e-01  4.395266e-01   \n",
       "max    ...  2.720284e+01  1.050309e+01  2.252841e+01  4.584549e+00   \n",
       "\n",
       "                V25           V26           V27           V28         Amount   \n",
       "count  2.848070e+05  2.848070e+05  2.848070e+05  2.848070e+05  284807.000000  \\\n",
       "mean   5.340915e-16  1.683437e-15 -3.660091e-16 -1.227390e-16      88.349619   \n",
       "std    5.212781e-01  4.822270e-01  4.036325e-01  3.300833e-01     250.120109   \n",
       "min   -1.029540e+01 -2.604551e+00 -2.256568e+01 -1.543008e+01       0.000000   \n",
       "25%   -3.171451e-01 -3.269839e-01 -7.083953e-02 -5.295979e-02       5.600000   \n",
       "50%    1.659350e-02 -5.213911e-02  1.342146e-03  1.124383e-02      22.000000   \n",
       "75%    3.507156e-01  2.409522e-01  9.104512e-02  7.827995e-02      77.165000   \n",
       "max    7.519589e+00  3.517346e+00  3.161220e+01  3.384781e+01   25691.160000   \n",
       "\n",
       "               Class  \n",
       "count  284807.000000  \n",
       "mean        0.001727  \n",
       "std         0.041527  \n",
       "min         0.000000  \n",
       "25%         0.000000  \n",
       "50%         0.000000  \n",
       "75%         0.000000  \n",
       "max         1.000000  \n",
       "\n",
       "[8 rows x 31 columns]"
      ]
     },
     "execution_count": 218,
     "metadata": {},
     "output_type": "execute_result"
    }
   ],
   "source": [
    "df.describe()"
   ]
  },
  {
   "cell_type": "markdown",
   "id": "cc1ade86",
   "metadata": {},
   "source": [
    "I'll look at the skewness of each feature. If a feature is too skewed, a transformation can be applied to make the distribution less skewed. This can make certain models be more stable and converge better. "
   ]
  },
  {
   "cell_type": "code",
   "execution_count": 504,
   "id": "fc86326d",
   "metadata": {},
   "outputs": [
    {
     "data": {
      "text/plain": [
       "Time      -0.035568\n",
       "V1        -3.280667\n",
       "V2        -4.624866\n",
       "V3        -2.240155\n",
       "V4         0.676292\n",
       "V5        -2.425901\n",
       "V6         1.826581\n",
       "V7         2.553907\n",
       "V8        -8.521944\n",
       "V9         0.554680\n",
       "V10        1.187141\n",
       "V11        0.356506\n",
       "V12       -2.278401\n",
       "V13        0.065233\n",
       "V14       -1.995176\n",
       "V15       -0.308423\n",
       "V16       -1.100966\n",
       "V17       -3.844914\n",
       "V18       -0.259880\n",
       "V19        0.109192\n",
       "V20       -2.037155\n",
       "V21        3.592991\n",
       "V22       -0.213258\n",
       "V23       -5.875140\n",
       "V24       -0.552499\n",
       "V25       -0.415793\n",
       "V26        0.576693\n",
       "V27       -1.170209\n",
       "V28       11.192091\n",
       "Amount    16.977724\n",
       "Class     23.997579\n",
       "dtype: float64"
      ]
     },
     "execution_count": 504,
     "metadata": {},
     "output_type": "execute_result"
    }
   ],
   "source": [
    "skewness = df.skew()\n",
    "skewness"
   ]
  },
  {
   "cell_type": "markdown",
   "id": "db4e3746",
   "metadata": {},
   "source": [
    "There are quite a few columns that are skewed, with skewness at least 2 in absolute value. I'll apply a Box-Cox transformation to those columns. Since a Box-Cox transformation requires the data to be positive, I'll first shift the values to be positive and then apply a Box-Cox transformation."
   ]
  },
  {
   "cell_type": "code",
   "execution_count": 507,
   "id": "a2d14dc8",
   "metadata": {},
   "outputs": [
    {
     "name": "stdout",
     "output_type": "stream",
     "text": [
      "Feature V1 now has skewness -0.1268 \n",
      "              after a Box-Cox transformation with lambda = 13.6105.\n",
      "Feature V2 now has skewness 0.8447 \n",
      "              after a Box-Cox transformation with lambda = 5.6578.\n",
      "Feature V3 now has skewness 0.0204 \n",
      "              after a Box-Cox transformation with lambda = 8.8415.\n",
      "Feature V5 now has skewness 0.5757 \n",
      "              after a Box-Cox transformation with lambda = 2.4115.\n",
      "Feature V7 now has skewness 2.2694 \n",
      "              after a Box-Cox transformation with lambda = 0.9759.\n",
      "Feature V8 now has skewness 2.5344 \n",
      "              after a Box-Cox transformation with lambda = 6.7573.\n",
      "Feature V12 now has skewness 0.1340 \n",
      "              after a Box-Cox transformation with lambda = 6.4916.\n",
      "Feature V17 now has skewness 0.6419 \n",
      "              after a Box-Cox transformation with lambda = 2.9679.\n",
      "Feature V20 now has skewness 1.8149 \n",
      "              after a Box-Cox transformation with lambda = 1.7165.\n",
      "Feature V21 now has skewness 1.5233 \n",
      "              after a Box-Cox transformation with lambda = 0.7166.\n",
      "Feature V23 now has skewness 2.7631 \n",
      "              after a Box-Cox transformation with lambda = 2.2341.\n",
      "Feature V28 now has skewness 2.0613 \n",
      "              after a Box-Cox transformation with lambda = 0.4881.\n",
      "Feature Amount now has skewness 0.0184 \n",
      "              after a Box-Cox transformation with lambda = -0.0449.\n"
     ]
    }
   ],
   "source": [
    "for col in df.columns[:-1]:\n",
    "    if abs(skewness[col]) > 2:\n",
    "        col_min = df[col].min()\n",
    "        if col_min <= 0:\n",
    "            df[col] -= (col_min - 1)\n",
    "        df[col], lamb = boxcox(df[col])\n",
    "        print(f'''Feature {col} now has skewness {df[col].skew():.4f} after a Box-Cox transformation with lambda = {lamb:.4f}.''')"
   ]
  },
  {
   "cell_type": "markdown",
   "id": "ba3dcaa9",
   "metadata": {},
   "source": [
    "I'll look at the skewness of all the features after the transformations."
   ]
  },
  {
   "cell_type": "code",
   "execution_count": 362,
   "id": "a87c2909",
   "metadata": {},
   "outputs": [
    {
     "data": {
      "image/png": "[encoded data removed]",
      "text/plain": [
       "<Figure size 432x288 with 1 Axes>"
      ]
     },
     "metadata": {
      "needs_background": "light"
     },
     "output_type": "display_data"
    }
   ],
   "source": [
    "df.iloc[:,:-1].skew().plot.bar()\n",
    "plt.xlabel('Feature')\n",
    "plt.ylabel('Skewness')\n",
    "plt.title('Skewness after Box-Cox transformations')\n",
    "plt.show()"
   ]
  },
  {
   "cell_type": "markdown",
   "id": "6f759cb2",
   "metadata": {},
   "source": [
    "I'll also normalize each of the predictors to try to improve performance when fitting models."
   ]
  },
  {
   "cell_type": "code",
   "execution_count": 363,
   "id": "1cd09188",
   "metadata": {},
   "outputs": [],
   "source": [
    "X = df.iloc[:,:-1]\n",
    "y = df.iloc[:,-1]\n",
    "\n",
    "from sklearn.preprocessing import StandardScaler\n",
    "\n",
    "scaler = StandardScaler()\n",
    "X = scaler.fit_transform(X)\n",
    "X = pd.DataFrame(X)\n",
    "X.columns = df.columns[:-1]"
   ]
  },
  {
   "cell_type": "markdown",
   "id": "ab1da8cd",
   "metadata": {},
   "source": [
    "Let's look at the distribution of non-frauds vs. frauds. Here, 0 indicates a non-fraud and 1 indicates a fraud."
   ]
  },
  {
   "cell_type": "code",
   "execution_count": 222,
   "id": "0b3188b1",
   "metadata": {},
   "outputs": [
    {
     "data": {
      "text/plain": [
       "Class\n",
       "0    284315\n",
       "1       492\n",
       "Name: count, dtype: int64"
      ]
     },
     "execution_count": 222,
     "metadata": {},
     "output_type": "execute_result"
    }
   ],
   "source": [
    "df['Class'].value_counts()"
   ]
  },
  {
   "cell_type": "markdown",
   "id": "8d860a2e",
   "metadata": {},
   "source": [
    "Because the classes are imbalanced, classification models might do poorly without addressing the imbalance first."
   ]
  },
  {
   "cell_type": "markdown",
   "id": "a960f5e0",
   "metadata": {},
   "source": [
    "# Split the data"
   ]
  },
  {
   "cell_type": "markdown",
   "id": "333284d9",
   "metadata": {},
   "source": [
    "In order to treat the class imbalance, I'll try oversampling and undersampling. First, I'll split the data into training/validation/test before employing oversampling and undersampling only on the training set in order to avoid leakage of the test and validation data into the training data."
   ]
  },
  {
   "cell_type": "code",
   "execution_count": 224,
   "id": "d3105738",
   "metadata": {},
   "outputs": [],
   "source": [
    "from sklearn.model_selection import train_test_split"
   ]
  },
  {
   "cell_type": "code",
   "execution_count": 372,
   "id": "413ada11",
   "metadata": {},
   "outputs": [],
   "source": [
    "X_train, X_temp, y_train, y_temp = train_test_split(X, y, test_size=0.2, random_state=20)\n",
    "X_valid, X_test, y_valid, y_test = train_test_split(X_temp, y_temp, test_size=0.5, random_state=20)"
   ]
  },
  {
   "cell_type": "markdown",
   "id": "652ead6f",
   "metadata": {},
   "source": [
    "Ensure that the validation and test sets have enough frauds in them."
   ]
  },
  {
   "cell_type": "code",
   "execution_count": 365,
   "id": "082cc7b0",
   "metadata": {},
   "outputs": [
    {
     "data": {
      "text/plain": [
       "Class\n",
       "0    227441\n",
       "1       404\n",
       "Name: count, dtype: int64"
      ]
     },
     "execution_count": 365,
     "metadata": {},
     "output_type": "execute_result"
    }
   ],
   "source": [
    "y_train.value_counts()"
   ]
  },
  {
   "cell_type": "code",
   "execution_count": 318,
   "id": "391e338b",
   "metadata": {},
   "outputs": [
    {
     "data": {
      "text/plain": [
       "Class\n",
       "0    28441\n",
       "1       40\n",
       "Name: count, dtype: int64"
      ]
     },
     "execution_count": 318,
     "metadata": {},
     "output_type": "execute_result"
    }
   ],
   "source": [
    "y_valid.value_counts()"
   ]
  },
  {
   "cell_type": "code",
   "execution_count": 319,
   "id": "2e067cef",
   "metadata": {},
   "outputs": [
    {
     "data": {
      "text/plain": [
       "Class\n",
       "0    28433\n",
       "1       48\n",
       "Name: count, dtype: int64"
      ]
     },
     "execution_count": 319,
     "metadata": {},
     "output_type": "execute_result"
    }
   ],
   "source": [
    "y_test.value_counts()"
   ]
  },
  {
   "cell_type": "markdown",
   "id": "f842570d",
   "metadata": {},
   "source": [
    "# Logistic regression models"
   ]
  },
  {
   "cell_type": "code",
   "execution_count": 370,
   "id": "1ad6445c",
   "metadata": {},
   "outputs": [],
   "source": [
    "from sklearn.linear_model import LogisticRegression\n",
    "from sklearn.metrics import accuracy_score, classification_report, confusion_matrix\n",
    "from sklearn.metrics import precision_recall_curve, auc"
   ]
  },
  {
   "cell_type": "markdown",
   "id": "8e701607",
   "metadata": {},
   "source": [
    "Each model will be evaluated based on the area under the curve of the precision-recall curve. This metric is valuable for the context of the problem because we desire a high recall, to be able to catch fraudulent transactions, and at the same time high precision, to minimize the number of valid transactions that are classified as fraudulent. "
   ]
  },
  {
   "cell_type": "code",
   "execution_count": 551,
   "id": "6edc33bf",
   "metadata": {},
   "outputs": [],
   "source": [
    "# show precision-recall curve, confusion matrix, and classification report\n",
    "def eval_model(mod):\n",
    "    \n",
    "    \n",
    "    if isinstance(mod, keras.src.engine.sequential.Sequential):\n",
    "        y_pred_proba = mod.predict(X_valid).flatten()\n",
    "    else:\n",
    "        y_pred_proba = mod.predict_proba(X_valid)[:,1]\n",
    "        \n",
    "    y_pred = (y_pred_proba >= 0.5).astype(int)\n",
    "    \n",
    "    cm = confusion_matrix(y_valid, y_pred)\n",
    "    classification_rep = classification_report(y_valid, y_pred)\n",
    "    \n",
    "    fig, axes = plt.subplots(1, 2, figsize=(15, 6))\n",
    "    \n",
    "    # plotting precision-recall curve\n",
    "    precision, recall, thresholds = precision_recall_curve(y_valid, y_pred_proba)\n",
    "    auc_pr = auc(recall, precision)\n",
    "    axes[0].plot(recall, precision, color='blue', lw=2, label=f'AUC-PR = {auc_pr:.4f}')\n",
    "    axes[0].set_xlabel('Recall')\n",
    "    axes[0].set_ylabel('Precision')\n",
    "    axes[0].set_title('Precision-Recall Curve')\n",
    "    axes[0].legend(loc='lower left')\n",
    "\n",
    "    # plotting confusion matrix\n",
    "    sns.heatmap(cm, annot=True, fmt='d', cmap='Blues', annot_kws={\"size\": 16})\n",
    "    axes[1].set_xlabel('Predicted')\n",
    "    axes[1].set_ylabel('True')\n",
    "    axes[1].set_title('Confusion Matrix')\n",
    "    \n",
    "    plt.show()\n",
    "    \n",
    "    print(\"\\nClassification Report:\\n\", classification_rep)"
   ]
  },
  {
   "cell_type": "markdown",
   "id": "eb095506",
   "metadata": {},
   "source": [
    "## Logistic regression without over/undersampling"
   ]
  },
  {
   "cell_type": "code",
   "execution_count": 559,
   "id": "06d7ffff",
   "metadata": {},
   "outputs": [
    {
     "data": {
      "image/png": "[encoded data removed]",
      "text/plain": [
       "<Figure size 1080x432 with 3 Axes>"
      ]
     },
     "metadata": {
      "needs_background": "light"
     },
     "output_type": "display_data"
    },
    {
     "name": "stdout",
     "output_type": "stream",
     "text": [
      "\n",
      "Classification Report:\n",
      "               precision    recall  f1-score   support\n",
      "\n",
      "           0       1.00      1.00      1.00     28441\n",
      "           1       0.88      0.57      0.70        40\n",
      "\n",
      "    accuracy                           1.00     28481\n",
      "   macro avg       0.94      0.79      0.85     28481\n",
      "weighted avg       1.00      1.00      1.00     28481\n",
      "\n"
     ]
    }
   ],
   "source": [
    "logi = LogisticRegression(penalty='l2', C=0.01)\n",
    "\n",
    "logi.fit(X_train, y_train)\n",
    "\n",
    "eval_model(logi)"
   ]
  },
  {
   "cell_type": "markdown",
   "id": "d0ad0020",
   "metadata": {},
   "source": [
    "## Logistic regression with oversampling"
   ]
  },
  {
   "cell_type": "code",
   "execution_count": 524,
   "id": "d22bf5b9",
   "metadata": {},
   "outputs": [
    {
     "data": {
      "image/png": "[encoded data removed]",
      "text/plain": [
       "<Figure size 1080x432 with 3 Axes>"
      ]
     },
     "metadata": {
      "needs_background": "light"
     },
     "output_type": "display_data"
    },
    {
     "name": "stdout",
     "output_type": "stream",
     "text": [
      "\n",
      "Classification Report:\n",
      "               precision    recall  f1-score   support\n",
      "\n",
      "           0       1.00      0.98      0.99     28441\n",
      "           1       0.05      0.88      0.09        40\n",
      "\n",
      "    accuracy                           0.98     28481\n",
      "   macro avg       0.52      0.93      0.54     28481\n",
      "weighted avg       1.00      0.98      0.99     28481\n",
      "\n"
     ]
    }
   ],
   "source": [
    "from imblearn.over_sampling import SMOTE\n",
    "X_train_over, y_train_over = SMOTE(random_state=20).fit_resample(X_train, y_train)\n",
    "\n",
    "model = LogisticRegression(penalty='l2', C=0.01)\n",
    "\n",
    "model.fit(X_train_over, y_train_over)\n",
    "\n",
    "eval_model(model)"
   ]
  },
  {
   "cell_type": "markdown",
   "id": "f1612a9c",
   "metadata": {},
   "source": [
    "## Logistic regression with undersampling"
   ]
  },
  {
   "cell_type": "code",
   "execution_count": 525,
   "id": "174dadee",
   "metadata": {},
   "outputs": [
    {
     "data": {
      "image/png": "[encoded data removed]",
      "text/plain": [
       "<Figure size 1080x432 with 3 Axes>"
      ]
     },
     "metadata": {
      "needs_background": "light"
     },
     "output_type": "display_data"
    },
    {
     "name": "stdout",
     "output_type": "stream",
     "text": [
      "\n",
      "Classification Report:\n",
      "               precision    recall  f1-score   support\n",
      "\n",
      "           0       1.00      0.99      0.99     28441\n",
      "           1       0.09      0.80      0.17        40\n",
      "\n",
      "    accuracy                           0.99     28481\n",
      "   macro avg       0.55      0.89      0.58     28481\n",
      "weighted avg       1.00      0.99      0.99     28481\n",
      "\n"
     ]
    }
   ],
   "source": [
    "from imblearn.under_sampling import RandomUnderSampler\n",
    "under_sampler = RandomUnderSampler(random_state=20) \n",
    "\n",
    "X_train_under, y_train_under = under_sampler.fit_resample(X_train, y_train)\n",
    "\n",
    "model = LogisticRegression(penalty='l2', C=0.01)\n",
    "\n",
    "model.fit(X_train_under, y_train_under)\n",
    "\n",
    "eval_model(model)"
   ]
  },
  {
   "cell_type": "markdown",
   "id": "66043fd5",
   "metadata": {},
   "source": [
    "Both oversampling and undersampling combined with a logistic regression capture more fraud, but they both incorrectly more valid transactions as fraud. I'll adjust the sampling strategies for both the oversampling and undersampling methods to see if they can perform better in terms of the area under the curve of precision-recall curve."
   ]
  },
  {
   "cell_type": "code",
   "execution_count": 528,
   "id": "ca01b93f",
   "metadata": {},
   "outputs": [],
   "source": [
    "strategies = np.arange(0.1, 1.1, .1)\n",
    "auc_prs = []\n",
    "for strat in strategies:\n",
    "    X_train_over, y_train_over = SMOTE(\n",
    "        random_state=20, sampling_strategy=strat\n",
    "    ).fit_resample(X_train, y_train)\n",
    "\n",
    "    model = LogisticRegression(penalty='l2', C=0.01)\n",
    "    model.fit(X_train_over, y_train_over)\n",
    "\n",
    "    y_pred_proba = model.predict_proba(X_valid)[:,1]\n",
    "\n",
    "    precision, recall, thresholds = precision_recall_curve(y_valid, y_pred_proba)\n",
    "    auc_pr = auc(recall, precision)\n",
    "    \n",
    "    auc_prs.append(auc_pr)\n",
    "    \n",
    "prec_rec_df = pd.DataFrame(\n",
    "    {\n",
    "        'Sampling Strategy' : strategies,\n",
    "        'AUC-PR' : auc_prs\n",
    "    }\n",
    ")"
   ]
  },
  {
   "cell_type": "code",
   "execution_count": 529,
   "id": "1a07d8d4",
   "metadata": {},
   "outputs": [
    {
     "data": {
      "image/png": "[encoded data removed]",
      "text/plain": [
       "<Figure size 432x288 with 1 Axes>"
      ]
     },
     "metadata": {
      "needs_background": "light"
     },
     "output_type": "display_data"
    }
   ],
   "source": [
    "sns.lineplot(x = 'Sampling Strategy', y = 'AUC-PR', \n",
    "             data = prec_rec_df)\n",
    "plt.title('Logistic regression with oversampling and various sampling strategies')\n",
    "plt.show()"
   ]
  },
  {
   "cell_type": "code",
   "execution_count": 530,
   "id": "4dd84d77",
   "metadata": {},
   "outputs": [],
   "source": [
    "auc_prs = []\n",
    "for strat in strategies:\n",
    "    X_train_under, y_train_under = RandomUnderSampler(\n",
    "        random_state=20, sampling_strategy=strat\n",
    "    ).fit_resample(X_train, y_train)\n",
    "\n",
    "    model = LogisticRegression(penalty='l2', C=0.01)\n",
    "    model.fit(X_train_under, y_train_under)\n",
    "\n",
    "    y_pred_proba = model.predict_proba(X_valid)[:,1]\n",
    "\n",
    "    precision, recall, thresholds = precision_recall_curve(y_valid, y_pred_proba)\n",
    "    auc_pr = auc(recall, precision)\n",
    "    \n",
    "    auc_prs.append(auc_pr)\n",
    "    \n",
    "prec_rec_df = pd.DataFrame(\n",
    "    {\n",
    "        'Sampling Strategy' : strategies,\n",
    "        'AUC-PR' : auc_prs\n",
    "    }\n",
    ")"
   ]
  },
  {
   "cell_type": "code",
   "execution_count": 531,
   "id": "231c21c3",
   "metadata": {},
   "outputs": [
    {
     "data": {
      "image/png": "[encoded data removed]",
      "text/plain": [
       "<Figure size 432x288 with 1 Axes>"
      ]
     },
     "metadata": {
      "needs_background": "light"
     },
     "output_type": "display_data"
    }
   ],
   "source": [
    "sns.lineplot(x = 'Sampling Strategy', y = 'AUC-PR', \n",
    "             data = prec_rec_df)\n",
    "plt.title('Logistic regression with undersampling and various sampling strategies')\n",
    "plt.show()"
   ]
  },
  {
   "cell_type": "markdown",
   "id": "421efc66",
   "metadata": {},
   "source": [
    "All the sampling strategies I tested for oversampling and undersampling do not perform as well as the logistic regression without any oversampling or undersampling in terms of the area under the precision-recall curve metric. "
   ]
  },
  {
   "cell_type": "markdown",
   "id": "d6980ccb",
   "metadata": {},
   "source": [
    "# Tree-based models\n",
    "\n",
    "Next, I'll try a couple of tree-based models (random forest, gradient boosting) to see if trees can capture the separation of the two classes better. "
   ]
  },
  {
   "cell_type": "markdown",
   "id": "80803544",
   "metadata": {},
   "source": [
    "## Random forest model"
   ]
  },
  {
   "cell_type": "code",
   "execution_count": 193,
   "id": "c62aa6af",
   "metadata": {},
   "outputs": [],
   "source": [
    "from sklearn.ensemble import RandomForestClassifier"
   ]
  },
  {
   "cell_type": "markdown",
   "id": "a8310c44",
   "metadata": {},
   "source": [
    "The random forest model has several hyperparameters to be adjusted. I'll try a few combinations with a small number of trees to find a combination that minimizes the AUC-PR. Then these hyperparameters are used to build a bigger random forest with more trees."
   ]
  },
  {
   "cell_type": "code",
   "execution_count": 570,
   "id": "ae5de3b1",
   "metadata": {},
   "outputs": [
    {
     "name": "stdout",
     "output_type": "stream",
     "text": [
      "Random forest with parameters 2, sqrt, for max_depth, max_features has AUC-PR 0.5983841654324982.\n",
      "Random forest with parameters 2, None, for max_depth, max_features has AUC-PR 0.720266792660481.\n",
      "Random forest with parameters 3, sqrt, for max_depth, max_features has AUC-PR 0.6428558124845142.\n",
      "Random forest with parameters 3, None, for max_depth, max_features has AUC-PR 0.7499570748363648.\n",
      "Random forest with parameters 4, sqrt, for max_depth, max_features has AUC-PR 0.6709229480652277.\n",
      "Random forest with parameters 4, None, for max_depth, max_features has AUC-PR 0.7378882064197099.\n",
      "Random forest with parameters 5, sqrt, for max_depth, max_features has AUC-PR 0.6923738021300889.\n",
      "Random forest with parameters 5, None, for max_depth, max_features has AUC-PR 0.7434155344126175.\n"
     ]
    }
   ],
   "source": [
    "for d in range(2, 6):\n",
    "    for feats in ['sqrt', None]:\n",
    "        model = RandomForestClassifier(\n",
    "            n_estimators = 10,\n",
    "            random_state = 20,\n",
    "            max_depth = d,\n",
    "            max_features = feats\n",
    "        )\n",
    "            \n",
    "        model.fit(X_train, y_train)\n",
    "\n",
    "        y_pred_proba = model.predict_proba(X_valid)[:,1]\n",
    "\n",
    "        precision, recall, thresholds = precision_recall_curve(y_valid, y_pred_proba)\n",
    "        auc_pr = auc(recall, precision)\n",
    "        print(f'Random forest with parameters {d}, {feats} for max_depth, max_features has validation AUC-PR of {auc_pr}.')"
   ]
  },
  {
   "cell_type": "code",
   "execution_count": 571,
   "id": "a775f868",
   "metadata": {},
   "outputs": [
    {
     "name": "stderr",
     "output_type": "stream",
     "text": [
      "[Parallel(n_jobs=1)]: Using backend SequentialBackend with 1 concurrent workers.\n"
     ]
    },
    {
     "name": "stdout",
     "output_type": "stream",
     "text": [
      "building tree 1 of 100\n"
     ]
    },
    {
     "name": "stderr",
     "output_type": "stream",
     "text": [
      "[Parallel(n_jobs=1)]: Done   1 out of   1 | elapsed:    8.6s remaining:    0.0s\n"
     ]
    },
    {
     "name": "stdout",
     "output_type": "stream",
     "text": [
      "building tree 2 of 100\n",
      "building tree 3 of 100\n",
      "building tree 4 of 100\n",
      "building tree 5 of 100\n",
      "building tree 6 of 100\n",
      "building tree 7 of 100\n",
      "building tree 8 of 100\n",
      "building tree 9 of 100\n",
      "building tree 10 of 100\n",
      "building tree 11 of 100\n",
      "building tree 12 of 100\n",
      "building tree 13 of 100\n",
      "building tree 14 of 100\n",
      "building tree 15 of 100\n",
      "building tree 16 of 100\n",
      "building tree 17 of 100\n",
      "building tree 18 of 100\n",
      "building tree 19 of 100\n",
      "building tree 20 of 100\n",
      "building tree 21 of 100\n",
      "building tree 22 of 100\n",
      "building tree 23 of 100\n",
      "building tree 24 of 100\n",
      "building tree 25 of 100\n",
      "building tree 26 of 100\n",
      "building tree 27 of 100\n",
      "building tree 28 of 100\n",
      "building tree 29 of 100\n",
      "building tree 30 of 100\n",
      "building tree 31 of 100\n",
      "building tree 32 of 100\n",
      "building tree 33 of 100\n",
      "building tree 34 of 100\n",
      "building tree 35 of 100\n",
      "building tree 36 of 100\n",
      "building tree 37 of 100\n",
      "building tree 38 of 100\n",
      "building tree 39 of 100\n",
      "building tree 40 of 100\n",
      "building tree 41 of 100\n",
      "building tree 42 of 100\n",
      "building tree 43 of 100\n",
      "building tree 44 of 100\n",
      "building tree 45 of 100\n",
      "building tree 46 of 100\n",
      "building tree 47 of 100\n",
      "building tree 48 of 100\n",
      "building tree 49 of 100\n",
      "building tree 50 of 100\n",
      "building tree 51 of 100\n",
      "building tree 52 of 100\n",
      "building tree 53 of 100\n",
      "building tree 54 of 100\n",
      "building tree 55 of 100\n",
      "building tree 56 of 100\n",
      "building tree 57 of 100\n",
      "building tree 58 of 100\n",
      "building tree 59 of 100\n",
      "building tree 60 of 100\n",
      "building tree 61 of 100\n",
      "building tree 62 of 100\n",
      "building tree 63 of 100\n",
      "building tree 64 of 100\n",
      "building tree 65 of 100\n",
      "building tree 66 of 100\n",
      "building tree 67 of 100\n",
      "building tree 68 of 100\n",
      "building tree 69 of 100\n",
      "building tree 70 of 100\n",
      "building tree 71 of 100\n",
      "building tree 72 of 100\n",
      "building tree 73 of 100\n",
      "building tree 74 of 100\n",
      "building tree 75 of 100\n",
      "building tree 76 of 100\n",
      "building tree 77 of 100\n",
      "building tree 78 of 100\n",
      "building tree 79 of 100\n",
      "building tree 80 of 100\n",
      "building tree 81 of 100\n",
      "building tree 82 of 100\n",
      "building tree 83 of 100\n",
      "building tree 84 of 100\n",
      "building tree 85 of 100\n",
      "building tree 86 of 100\n",
      "building tree 87 of 100\n",
      "building tree 88 of 100\n",
      "building tree 89 of 100\n",
      "building tree 90 of 100\n",
      "building tree 91 of 100\n",
      "building tree 92 of 100\n",
      "building tree 93 of 100\n",
      "building tree 94 of 100\n",
      "building tree 95 of 100\n",
      "building tree 96 of 100\n",
      "building tree 97 of 100\n",
      "building tree 98 of 100\n",
      "building tree 99 of 100\n",
      "building tree 100 of 100\n"
     ]
    },
    {
     "name": "stderr",
     "output_type": "stream",
     "text": [
      "[Parallel(n_jobs=1)]: Done 100 out of 100 | elapsed: 14.1min finished\n"
     ]
    },
    {
     "data": {
      "text/html": [
       "<style>#sk-container-id-42 {color: black;background-color: white;}#sk-container-id-42 pre{padding: 0;}#sk-container-id-42 div.sk-toggleable {background-color: white;}#sk-container-id-42 label.sk-toggleable__label {cursor: pointer;display: block;width: 100%;margin-bottom: 0;padding: 0.3em;box-sizing: border-box;text-align: center;}#sk-container-id-42 label.sk-toggleable__label-arrow:before {content: \"▸\";float: left;margin-right: 0.25em;color: #696969;}#sk-container-id-42 label.sk-toggleable__label-arrow:hover:before {color: black;}#sk-container-id-42 div.sk-estimator:hover label.sk-toggleable__label-arrow:before {color: black;}#sk-container-id-42 div.sk-toggleable__content {max-height: 0;max-width: 0;overflow: hidden;text-align: left;background-color: #f0f8ff;}#sk-container-id-42 div.sk-toggleable__content pre {margin: 0.2em;color: black;border-radius: 0.25em;background-color: #f0f8ff;}#sk-container-id-42 input.sk-toggleable__control:checked~div.sk-toggleable__content {max-height: 200px;max-width: 100%;overflow: auto;}#sk-container-id-42 input.sk-toggleable__control:checked~label.sk-toggleable__label-arrow:before {content: \"▾\";}#sk-container-id-42 div.sk-estimator input.sk-toggleable__control:checked~label.sk-toggleable__label {background-color: #d4ebff;}#sk-container-id-42 div.sk-label input.sk-toggleable__control:checked~label.sk-toggleable__label {background-color: #d4ebff;}#sk-container-id-42 input.sk-hidden--visually {border: 0;clip: rect(1px 1px 1px 1px);clip: rect(1px, 1px, 1px, 1px);height: 1px;margin: -1px;overflow: hidden;padding: 0;position: absolute;width: 1px;}#sk-container-id-42 div.sk-estimator {font-family: monospace;background-color: #f0f8ff;border: 1px dotted black;border-radius: 0.25em;box-sizing: border-box;margin-bottom: 0.5em;}#sk-container-id-42 div.sk-estimator:hover {background-color: #d4ebff;}#sk-container-id-42 div.sk-parallel-item::after {content: \"\";width: 100%;border-bottom: 1px solid gray;flex-grow: 1;}#sk-container-id-42 div.sk-label:hover label.sk-toggleable__label {background-color: #d4ebff;}#sk-container-id-42 div.sk-serial::before {content: \"\";position: absolute;border-left: 1px solid gray;box-sizing: border-box;top: 0;bottom: 0;left: 50%;z-index: 0;}#sk-container-id-42 div.sk-serial {display: flex;flex-direction: column;align-items: center;background-color: white;padding-right: 0.2em;padding-left: 0.2em;position: relative;}#sk-container-id-42 div.sk-item {position: relative;z-index: 1;}#sk-container-id-42 div.sk-parallel {display: flex;align-items: stretch;justify-content: center;background-color: white;position: relative;}#sk-container-id-42 div.sk-item::before, #sk-container-id-42 div.sk-parallel-item::before {content: \"\";position: absolute;border-left: 1px solid gray;box-sizing: border-box;top: 0;bottom: 0;left: 50%;z-index: -1;}#sk-container-id-42 div.sk-parallel-item {display: flex;flex-direction: column;z-index: 1;position: relative;background-color: white;}#sk-container-id-42 div.sk-parallel-item:first-child::after {align-self: flex-end;width: 50%;}#sk-container-id-42 div.sk-parallel-item:last-child::after {align-self: flex-start;width: 50%;}#sk-container-id-42 div.sk-parallel-item:only-child::after {width: 0;}#sk-container-id-42 div.sk-dashed-wrapped {border: 1px dashed gray;margin: 0 0.4em 0.5em 0.4em;box-sizing: border-box;padding-bottom: 0.4em;background-color: white;}#sk-container-id-42 div.sk-label label {font-family: monospace;font-weight: bold;display: inline-block;line-height: 1.2em;}#sk-container-id-42 div.sk-label-container {text-align: center;}#sk-container-id-42 div.sk-container {/* jupyter's `normalize.less` sets `[hidden] { display: none; }` but bootstrap.min.css set `[hidden] { display: none !important; }` so we also need the `!important` here to be able to override the default hidden behavior on the sphinx rendered scikit-learn.org. See: https://github.com/scikit-learn/scikit-learn/issues/21755 */display: inline-block !important;position: relative;}#sk-container-id-42 div.sk-text-repr-fallback {display: none;}</style><div id=\"sk-container-id-42\" class=\"sk-top-container\"><div class=\"sk-text-repr-fallback\"><pre>RandomForestClassifier(max_depth=3, max_features=None, random_state=20,\n",
       "                       verbose=2)</pre><b>In a Jupyter environment, please rerun this cell to show the HTML representation or trust the notebook. <br />On GitHub, the HTML representation is unable to render, please try loading this page with nbviewer.org.</b></div><div class=\"sk-container\" hidden><div class=\"sk-item\"><div class=\"sk-estimator sk-toggleable\"><input class=\"sk-toggleable__control sk-hidden--visually\" id=\"sk-estimator-id-42\" type=\"checkbox\" checked><label for=\"sk-estimator-id-42\" class=\"sk-toggleable__label sk-toggleable__label-arrow\">RandomForestClassifier</label><div class=\"sk-toggleable__content\"><pre>RandomForestClassifier(max_depth=3, max_features=None, random_state=20,\n",
       "                       verbose=2)</pre></div></div></div></div></div>"
      ],
      "text/plain": [
       "RandomForestClassifier(max_depth=3, max_features=None, random_state=20,\n",
       "                       verbose=2)"
      ]
     },
     "execution_count": 571,
     "metadata": {},
     "output_type": "execute_result"
    }
   ],
   "source": [
    "rf = RandomForestClassifier(n_estimators = 100, \n",
    "                            random_state=20, \n",
    "                            verbose = 2,\n",
    "                            max_depth = 3,\n",
    "                            max_features = None)\n",
    "rf.fit(X_train, y_train)"
   ]
  },
  {
   "cell_type": "code",
   "execution_count": 572,
   "id": "984f2d28",
   "metadata": {},
   "outputs": [
    {
     "name": "stderr",
     "output_type": "stream",
     "text": [
      "[Parallel(n_jobs=1)]: Using backend SequentialBackend with 1 concurrent workers.\n",
      "[Parallel(n_jobs=1)]: Done   1 out of   1 | elapsed:    0.0s remaining:    0.0s\n",
      "[Parallel(n_jobs=1)]: Done 100 out of 100 | elapsed:    0.3s finished\n"
     ]
    },
    {
     "data": {
      "image/png": "[encoded data removed]",
      "text/plain": [
       "<Figure size 1080x432 with 3 Axes>"
      ]
     },
     "metadata": {
      "needs_background": "light"
     },
     "output_type": "display_data"
    },
    {
     "name": "stdout",
     "output_type": "stream",
     "text": [
      "\n",
      "Classification Report:\n",
      "               precision    recall  f1-score   support\n",
      "\n",
      "           0       1.00      1.00      1.00     28441\n",
      "           1       0.83      0.72      0.77        40\n",
      "\n",
      "    accuracy                           1.00     28481\n",
      "   macro avg       0.91      0.86      0.89     28481\n",
      "weighted avg       1.00      1.00      1.00     28481\n",
      "\n"
     ]
    }
   ],
   "source": [
    "eval_model(rf)"
   ]
  },
  {
   "cell_type": "markdown",
   "id": "891aef43",
   "metadata": {},
   "source": [
    "## Gradient boosting model"
   ]
  },
  {
   "cell_type": "code",
   "execution_count": 573,
   "id": "eead7a58",
   "metadata": {},
   "outputs": [],
   "source": [
    "from sklearn.ensemble import GradientBoostingClassifier"
   ]
  },
  {
   "cell_type": "markdown",
   "id": "3b6e28a4",
   "metadata": {},
   "source": [
    "Like with the random forest model, I'll try a few combinations of hyperparameters for the gradient boosting model and then grow the best model with more trees."
   ]
  },
  {
   "cell_type": "code",
   "execution_count": 575,
   "id": "136043b7",
   "metadata": {},
   "outputs": [
    {
     "name": "stdout",
     "output_type": "stream",
     "text": [
      "Gradient boosting with parameters 2, sqrt, 0.1 for max_depth, max_features, learning rate has validation AUC-PR of 0.09659933686386679.\n",
      "Gradient boosting with parameters 2, sqrt, 0.05 for max_depth, max_features, learning rate has validation AUC-PR of 0.6071782757636561.\n",
      "Gradient boosting with parameters 2, sqrt, 0.01 for max_depth, max_features, learning rate has validation AUC-PR of 0.6677407550822619.\n",
      "Gradient boosting with parameters 2, sqrt, 0.005 for max_depth, max_features, learning rate has validation AUC-PR of 0.6579722402145041.\n",
      "Gradient boosting with parameters 2, None, 0.1 for max_depth, max_features, learning rate has validation AUC-PR of 0.15810634900284987.\n",
      "Gradient boosting with parameters 2, None, 0.05 for max_depth, max_features, learning rate has validation AUC-PR of 0.6553560303286492.\n",
      "Gradient boosting with parameters 2, None, 0.01 for max_depth, max_features, learning rate has validation AUC-PR of 0.6757505436293707.\n",
      "Gradient boosting with parameters 2, None, 0.005 for max_depth, max_features, learning rate has validation AUC-PR of 0.6757505436293707.\n",
      "Gradient boosting with parameters 3, sqrt, 0.1 for max_depth, max_features, learning rate has validation AUC-PR of 0.3713653195258997.\n",
      "Gradient boosting with parameters 3, sqrt, 0.05 for max_depth, max_features, learning rate has validation AUC-PR of 0.6495904448083616.\n",
      "Gradient boosting with parameters 3, sqrt, 0.01 for max_depth, max_features, learning rate has validation AUC-PR of 0.6475303526011015.\n",
      "Gradient boosting with parameters 3, sqrt, 0.005 for max_depth, max_features, learning rate has validation AUC-PR of 0.7103969050841857.\n",
      "Gradient boosting with parameters 3, None, 0.1 for max_depth, max_features, learning rate has validation AUC-PR of 0.7443528057002825.\n",
      "Gradient boosting with parameters 3, None, 0.05 for max_depth, max_features, learning rate has validation AUC-PR of 0.2656223040230831.\n",
      "Gradient boosting with parameters 3, None, 0.01 for max_depth, max_features, learning rate has validation AUC-PR of 0.7634607064992677.\n",
      "Gradient boosting with parameters 3, None, 0.005 for max_depth, max_features, learning rate has validation AUC-PR of 0.7619538706717309.\n",
      "Gradient boosting with parameters 4, sqrt, 0.1 for max_depth, max_features, learning rate has validation AUC-PR of 0.47684505775504.\n",
      "Gradient boosting with parameters 4, sqrt, 0.05 for max_depth, max_features, learning rate has validation AUC-PR of 0.6656554221066229.\n",
      "Gradient boosting with parameters 4, sqrt, 0.01 for max_depth, max_features, learning rate has validation AUC-PR of 0.7150628914390527.\n",
      "Gradient boosting with parameters 4, sqrt, 0.005 for max_depth, max_features, learning rate has validation AUC-PR of 0.7340818814656558.\n",
      "Gradient boosting with parameters 4, None, 0.1 for max_depth, max_features, learning rate has validation AUC-PR of 0.24665158940427012.\n",
      "Gradient boosting with parameters 4, None, 0.05 for max_depth, max_features, learning rate has validation AUC-PR of 0.7025714173045898.\n",
      "Gradient boosting with parameters 4, None, 0.01 for max_depth, max_features, learning rate has validation AUC-PR of 0.7334886719529533.\n",
      "Gradient boosting with parameters 4, None, 0.005 for max_depth, max_features, learning rate has validation AUC-PR of 0.7255516583106141.\n",
      "Gradient boosting with parameters 5, sqrt, 0.1 for max_depth, max_features, learning rate has validation AUC-PR of 0.6355799566914794.\n",
      "Gradient boosting with parameters 5, sqrt, 0.05 for max_depth, max_features, learning rate has validation AUC-PR of 0.6462280685472287.\n",
      "Gradient boosting with parameters 5, sqrt, 0.01 for max_depth, max_features, learning rate has validation AUC-PR of 0.6350124085037102.\n",
      "Gradient boosting with parameters 5, sqrt, 0.005 for max_depth, max_features, learning rate has validation AUC-PR of 0.6536606085114057.\n",
      "Gradient boosting with parameters 5, None, 0.1 for max_depth, max_features, learning rate has validation AUC-PR of 0.7197172165690358.\n",
      "Gradient boosting with parameters 5, None, 0.05 for max_depth, max_features, learning rate has validation AUC-PR of 0.7020819780441915.\n",
      "Gradient boosting with parameters 5, None, 0.01 for max_depth, max_features, learning rate has validation AUC-PR of 0.7142499721847149.\n",
      "Gradient boosting with parameters 5, None, 0.005 for max_depth, max_features, learning rate has validation AUC-PR of 0.7174476892840116.\n"
     ]
    }
   ],
   "source": [
    "for d in range(2, 6):\n",
    "    for feats in ['sqrt', None]:\n",
    "        for lr in [0.1, 0.05, 0.01, 0.005]:\n",
    "            model = GradientBoostingClassifier(\n",
    "                n_estimators = 10,\n",
    "                random_state = 20,\n",
    "                max_depth = d,\n",
    "                max_features = feats,\n",
    "                learning_rate = lr\n",
    "            )\n",
    "            \n",
    "            model.fit(X_train, y_train)\n",
    "\n",
    "            y_pred_proba = model.predict_proba(X_valid)[:,1]\n",
    "\n",
    "            precision, recall, thresholds = precision_recall_curve(y_valid, y_pred_proba)\n",
    "            auc_pr = auc(recall, precision)\n",
    "            print(f'Gradient boosting with parameters {d}, {feats}, {lr} for max_depth, max_features, learning rate has validation AUC-PR of {auc_pr}.')"
   ]
  },
  {
   "cell_type": "code",
   "execution_count": 576,
   "id": "8e4c44dc",
   "metadata": {},
   "outputs": [
    {
     "name": "stdout",
     "output_type": "stream",
     "text": [
      "      Iter       Train Loss   Remaining Time \n",
      "         1           0.0133           20.80m\n",
      "         2           0.0131           20.47m\n",
      "         3           0.0130           20.22m\n",
      "         4           0.0128           20.08m\n",
      "         5           0.0127           19.90m\n",
      "         6           0.0125           19.70m\n",
      "         7           0.0124           19.56m\n",
      "         8           0.0123           19.39m\n",
      "         9           0.0122           19.19m\n",
      "        10           0.0121           18.97m\n",
      "        11           0.0120           18.76m\n",
      "        12           0.0119           18.59m\n",
      "        13           0.0118           18.38m\n",
      "        14           0.0117           18.18m\n",
      "        15           0.0116           17.97m\n",
      "        16           0.0115           17.79m\n",
      "        17           0.0114           17.59m\n",
      "        18           0.0113           17.39m\n",
      "        19           0.0112           17.20m\n",
      "        20           0.0112           16.98m\n",
      "        21           0.0111           16.78m\n",
      "        22           0.0110           16.54m\n",
      "        23           0.0109           52.97m\n",
      "        24           0.0108           50.72m\n",
      "        25           0.0108           48.65m\n",
      "        26           0.0107           46.76m\n",
      "        27           0.0106           44.97m\n",
      "        28           0.0106           43.28m\n",
      "        29           0.0105           41.70m\n",
      "        30           0.0104           40.22m\n",
      "        31           0.0104           38.86m\n",
      "        32           0.0103           37.60m\n",
      "        33           0.0103           36.34m\n",
      "        34           0.0102           35.16m\n",
      "        35           0.0101           34.04m\n",
      "        36           0.0101           32.97m\n",
      "        37           0.0100           31.93m\n",
      "        38           0.0100           30.94m\n",
      "        39           0.0099           29.99m\n",
      "        40           0.0099           29.09m\n",
      "        41           0.0098           28.21m\n",
      "        42           0.0098           27.36m\n",
      "        43           0.0097           26.54m\n",
      "        44           0.0097           25.75m\n",
      "        45           0.0096           24.99m\n",
      "        46           0.0096           24.26m\n",
      "        47           0.0096           23.54m\n",
      "        48           0.0095           22.84m\n",
      "        49           0.0095           22.16m\n",
      "        50           0.0094           21.46m\n",
      "        51           0.0094           20.79m\n",
      "        52           0.0093           20.14m\n",
      "        53           0.0093           19.51m\n",
      "        54           0.0092           18.89m\n",
      "        55           0.0092           18.29m\n",
      "        56           0.0092           17.71m\n",
      "        57           0.0091           17.14m\n",
      "        58           0.0091           16.58m\n",
      "        59           0.0090           16.03m\n",
      "        60           0.0090           15.50m\n",
      "        61           0.0089           14.98m\n",
      "        62           0.0089           14.47m\n",
      "        63           0.0088           13.97m\n",
      "        64           0.0088           13.48m\n",
      "        65           0.0088           13.00m\n",
      "        66           0.0087           12.53m\n",
      "        67           0.0087           12.07m\n",
      "        68           0.0086           11.62m\n",
      "        69           0.0086           11.17m\n",
      "        70           0.0086           10.74m\n",
      "        71           0.0085           10.31m\n",
      "        72           0.0085            9.89m\n",
      "        73           0.0084            9.47m\n",
      "        74           0.0084            9.06m\n",
      "        75           0.0083            8.65m\n",
      "        76           0.0083            8.25m\n",
      "        77           0.0083            7.86m\n",
      "        78           0.0082            7.47m\n",
      "        79           0.0082            7.09m\n",
      "        80           0.0082            6.71m\n",
      "        81           0.0081            6.34m\n",
      "        82           0.0081            5.97m\n",
      "        83           0.0080            5.61m\n",
      "        84           0.0080            5.25m\n",
      "        85           0.0080            4.90m\n",
      "        86           0.0079            4.55m\n",
      "        87           0.0079            4.20m\n",
      "        88           0.0079            3.86m\n",
      "        89           0.0079            3.52m\n",
      "        90           0.0078            3.18m\n",
      "        91           0.0078            2.85m\n",
      "        92           0.0078            2.52m\n",
      "        93           0.0077            2.20m\n",
      "        94           0.0077            1.87m\n",
      "        95           0.0077            1.56m\n",
      "        96           0.0076            1.24m\n",
      "        97           0.0076           55.49s\n",
      "        98           0.0076           36.84s\n",
      "        99           0.0076           18.34s\n",
      "       100           0.0075            0.00s\n"
     ]
    },
    {
     "data": {
      "text/html": [
       "<style>#sk-container-id-43 {color: black;background-color: white;}#sk-container-id-43 pre{padding: 0;}#sk-container-id-43 div.sk-toggleable {background-color: white;}#sk-container-id-43 label.sk-toggleable__label {cursor: pointer;display: block;width: 100%;margin-bottom: 0;padding: 0.3em;box-sizing: border-box;text-align: center;}#sk-container-id-43 label.sk-toggleable__label-arrow:before {content: \"▸\";float: left;margin-right: 0.25em;color: #696969;}#sk-container-id-43 label.sk-toggleable__label-arrow:hover:before {color: black;}#sk-container-id-43 div.sk-estimator:hover label.sk-toggleable__label-arrow:before {color: black;}#sk-container-id-43 div.sk-toggleable__content {max-height: 0;max-width: 0;overflow: hidden;text-align: left;background-color: #f0f8ff;}#sk-container-id-43 div.sk-toggleable__content pre {margin: 0.2em;color: black;border-radius: 0.25em;background-color: #f0f8ff;}#sk-container-id-43 input.sk-toggleable__control:checked~div.sk-toggleable__content {max-height: 200px;max-width: 100%;overflow: auto;}#sk-container-id-43 input.sk-toggleable__control:checked~label.sk-toggleable__label-arrow:before {content: \"▾\";}#sk-container-id-43 div.sk-estimator input.sk-toggleable__control:checked~label.sk-toggleable__label {background-color: #d4ebff;}#sk-container-id-43 div.sk-label input.sk-toggleable__control:checked~label.sk-toggleable__label {background-color: #d4ebff;}#sk-container-id-43 input.sk-hidden--visually {border: 0;clip: rect(1px 1px 1px 1px);clip: rect(1px, 1px, 1px, 1px);height: 1px;margin: -1px;overflow: hidden;padding: 0;position: absolute;width: 1px;}#sk-container-id-43 div.sk-estimator {font-family: monospace;background-color: #f0f8ff;border: 1px dotted black;border-radius: 0.25em;box-sizing: border-box;margin-bottom: 0.5em;}#sk-container-id-43 div.sk-estimator:hover {background-color: #d4ebff;}#sk-container-id-43 div.sk-parallel-item::after {content: \"\";width: 100%;border-bottom: 1px solid gray;flex-grow: 1;}#sk-container-id-43 div.sk-label:hover label.sk-toggleable__label {background-color: #d4ebff;}#sk-container-id-43 div.sk-serial::before {content: \"\";position: absolute;border-left: 1px solid gray;box-sizing: border-box;top: 0;bottom: 0;left: 50%;z-index: 0;}#sk-container-id-43 div.sk-serial {display: flex;flex-direction: column;align-items: center;background-color: white;padding-right: 0.2em;padding-left: 0.2em;position: relative;}#sk-container-id-43 div.sk-item {position: relative;z-index: 1;}#sk-container-id-43 div.sk-parallel {display: flex;align-items: stretch;justify-content: center;background-color: white;position: relative;}#sk-container-id-43 div.sk-item::before, #sk-container-id-43 div.sk-parallel-item::before {content: \"\";position: absolute;border-left: 1px solid gray;box-sizing: border-box;top: 0;bottom: 0;left: 50%;z-index: -1;}#sk-container-id-43 div.sk-parallel-item {display: flex;flex-direction: column;z-index: 1;position: relative;background-color: white;}#sk-container-id-43 div.sk-parallel-item:first-child::after {align-self: flex-end;width: 50%;}#sk-container-id-43 div.sk-parallel-item:last-child::after {align-self: flex-start;width: 50%;}#sk-container-id-43 div.sk-parallel-item:only-child::after {width: 0;}#sk-container-id-43 div.sk-dashed-wrapped {border: 1px dashed gray;margin: 0 0.4em 0.5em 0.4em;box-sizing: border-box;padding-bottom: 0.4em;background-color: white;}#sk-container-id-43 div.sk-label label {font-family: monospace;font-weight: bold;display: inline-block;line-height: 1.2em;}#sk-container-id-43 div.sk-label-container {text-align: center;}#sk-container-id-43 div.sk-container {/* jupyter's `normalize.less` sets `[hidden] { display: none; }` but bootstrap.min.css set `[hidden] { display: none !important; }` so we also need the `!important` here to be able to override the default hidden behavior on the sphinx rendered scikit-learn.org. See: https://github.com/scikit-learn/scikit-learn/issues/21755 */display: inline-block !important;position: relative;}#sk-container-id-43 div.sk-text-repr-fallback {display: none;}</style><div id=\"sk-container-id-43\" class=\"sk-top-container\"><div class=\"sk-text-repr-fallback\"><pre>GradientBoostingClassifier(learning_rate=0.01, random_state=20, verbose=2)</pre><b>In a Jupyter environment, please rerun this cell to show the HTML representation or trust the notebook. <br />On GitHub, the HTML representation is unable to render, please try loading this page with nbviewer.org.</b></div><div class=\"sk-container\" hidden><div class=\"sk-item\"><div class=\"sk-estimator sk-toggleable\"><input class=\"sk-toggleable__control sk-hidden--visually\" id=\"sk-estimator-id-43\" type=\"checkbox\" checked><label for=\"sk-estimator-id-43\" class=\"sk-toggleable__label sk-toggleable__label-arrow\">GradientBoostingClassifier</label><div class=\"sk-toggleable__content\"><pre>GradientBoostingClassifier(learning_rate=0.01, random_state=20, verbose=2)</pre></div></div></div></div></div>"
      ],
      "text/plain": [
       "GradientBoostingClassifier(learning_rate=0.01, random_state=20, verbose=2)"
      ]
     },
     "execution_count": 576,
     "metadata": {},
     "output_type": "execute_result"
    }
   ],
   "source": [
    "from sklearn.ensemble import GradientBoostingClassifier\n",
    "gb = GradientBoostingClassifier(n_estimators=100, learning_rate=0.01, \n",
    "                                max_depth=3, max_features = None,\n",
    "                                random_state=20,\n",
    "                                verbose=2)\n",
    "\n",
    "gb.fit(X_train, y_train)"
   ]
  },
  {
   "cell_type": "code",
   "execution_count": 577,
   "id": "9db5f9d1",
   "metadata": {},
   "outputs": [
    {
     "data": {
      "image/png": "[encoded data removed]",
      "text/plain": [
       "<Figure size 1080x432 with 3 Axes>"
      ]
     },
     "metadata": {
      "needs_background": "light"
     },
     "output_type": "display_data"
    },
    {
     "name": "stdout",
     "output_type": "stream",
     "text": [
      "\n",
      "Classification Report:\n",
      "               precision    recall  f1-score   support\n",
      "\n",
      "           0       1.00      1.00      1.00     28441\n",
      "           1       0.90      0.65      0.75        40\n",
      "\n",
      "    accuracy                           1.00     28481\n",
      "   macro avg       0.95      0.82      0.88     28481\n",
      "weighted avg       1.00      1.00      1.00     28481\n",
      "\n"
     ]
    }
   ],
   "source": [
    "eval_model(gb)"
   ]
  },
  {
   "cell_type": "markdown",
   "id": "8942751c",
   "metadata": {},
   "source": [
    "For the tree-based models, the random forest model outperforms all of the logistic regression models. The random forest models has an AUC-PR of 0.7570 while the best logistic regression model has an AUC-PR of 0.7131. The gradient boosting model offers a similar amount of improvement with an AUC-PR of 0.7462."
   ]
  },
  {
   "cell_type": "markdown",
   "id": "1dc8a9c4",
   "metadata": {},
   "source": [
    "# Neural network model\n",
    "\n",
    "I'll also try to use a neural network to see if that can do better at detecting fraud."
   ]
  },
  {
   "cell_type": "code",
   "execution_count": 579,
   "id": "a8709656",
   "metadata": {},
   "outputs": [],
   "source": [
    "import keras\n",
    "import keras_tuner"
   ]
  },
  {
   "cell_type": "code",
   "execution_count": 596,
   "id": "5d439b11",
   "metadata": {},
   "outputs": [
    {
     "name": "stdout",
     "output_type": "stream",
     "text": [
      "Trial 20 Complete [00h 03m 44s]\n",
      "val_auc: 0.7822039723396301\n",
      "\n",
      "Best val_auc So Far: 0.7965686321258545\n",
      "Total elapsed time: 01h 52m 14s\n"
     ]
    }
   ],
   "source": [
    "# define the hypermodel\n",
    "def build_model(hp):\n",
    "    model = keras.Sequential()\n",
    "    \n",
    "    layer1 = keras.layers.Dense(128, activation='relu', input_shape=(X_train.shape[1],))\n",
    "    model.add(layer1)\n",
    "\n",
    "    num_middle_layers = hp.Choice('num_middle_layers', [1, 2, 3, 4, 5])\n",
    "    for i in range(num_middle_layers):\n",
    "        model.add(keras.layers.Dense(hp.Choice(f'units{i+1}', [16, 32, 64, 128]),\n",
    "                              activation='relu'))\n",
    "        model.add(keras.layers.Dropout(hp.Choice(f'dropout{i+1}',\n",
    "                                [0.0, 0.1, 0.2, 0.3, 0.4])))\n",
    "        if hp.Boolean(f'batch{i+1}'):\n",
    "              model.add(keras.layers.BatchNormalization())\n",
    "\n",
    "    model.add(keras.layers.Dense(1, activation='sigmoid'))\n",
    "    learning_rate = 0.001\n",
    "    model.compile(optimizer=keras.optimizers.Adam(learning_rate),\n",
    "                  loss='binary_crossentropy',\n",
    "                  metrics=[keras.metrics.AUC(curve='PR')])\n",
    "    return model\n",
    "     \n",
    "\n",
    "# set up the Bayesian optimization tuner\n",
    "tuner = keras_tuner.BayesianOptimization(\n",
    "    build_model,\n",
    "    objective = keras_tuner.Objective(\"val_auc\", direction=\"max\"),\n",
    "    max_trials = 20,\n",
    "    directory = 'nn_tuner'\n",
    ")\n",
    "\n",
    "tuner.search(X_train, y_train, epochs=10, validation_data=(X_valid, y_valid))\n",
    "best_nn_model = tuner.get_best_models()[0]"
   ]
  },
  {
   "cell_type": "code",
   "execution_count": 597,
   "id": "dce5eb91",
   "metadata": {},
   "outputs": [
    {
     "name": "stdout",
     "output_type": "stream",
     "text": [
      "Model: \"sequential\"\n",
      "_________________________________________________________________\n",
      " Layer (type)                Output Shape              Param #   \n",
      "=================================================================\n",
      " dense (Dense)               (None, 128)               3968      \n",
      "                                                                 \n",
      " dense_1 (Dense)             (None, 32)                4128      \n",
      "                                                                 \n",
      " dropout (Dropout)           (None, 32)                0         \n",
      "                                                                 \n",
      " dense_2 (Dense)             (None, 1)                 33        \n",
      "                                                                 \n",
      "=================================================================\n",
      "Total params: 8129 (31.75 KB)\n",
      "Trainable params: 8129 (31.75 KB)\n",
      "Non-trainable params: 0 (0.00 Byte)\n",
      "_________________________________________________________________\n"
     ]
    }
   ],
   "source": [
    "# get architecture of the best neural network model\n",
    "best_nn_model.summary()"
   ]
  },
  {
   "cell_type": "code",
   "execution_count": 598,
   "id": "1db3bdb6",
   "metadata": {},
   "outputs": [
    {
     "data": {
      "text/plain": [
       "{'name': 'sequential',\n",
       " 'layers': [{'module': 'keras.layers',\n",
       "   'class_name': 'InputLayer',\n",
       "   'config': {'batch_input_shape': (None, 30),\n",
       "    'dtype': 'float32',\n",
       "    'sparse': False,\n",
       "    'ragged': False,\n",
       "    'name': 'dense_input'},\n",
       "   'registered_name': None},\n",
       "  {'module': 'keras.layers',\n",
       "   'class_name': 'Dense',\n",
       "   'config': {'name': 'dense',\n",
       "    'trainable': True,\n",
       "    'dtype': 'float32',\n",
       "    'batch_input_shape': (None, 30),\n",
       "    'units': 128,\n",
       "    'activation': 'relu',\n",
       "    'use_bias': True,\n",
       "    'kernel_initializer': {'module': 'keras.initializers',\n",
       "     'class_name': 'GlorotUniform',\n",
       "     'config': {'seed': None},\n",
       "     'registered_name': None},\n",
       "    'bias_initializer': {'module': 'keras.initializers',\n",
       "     'class_name': 'Zeros',\n",
       "     'config': {},\n",
       "     'registered_name': None},\n",
       "    'kernel_regularizer': None,\n",
       "    'bias_regularizer': None,\n",
       "    'activity_regularizer': None,\n",
       "    'kernel_constraint': None,\n",
       "    'bias_constraint': None},\n",
       "   'registered_name': None,\n",
       "   'build_config': {'input_shape': (None, 30)}},\n",
       "  {'module': 'keras.layers',\n",
       "   'class_name': 'Dense',\n",
       "   'config': {'name': 'dense_1',\n",
       "    'trainable': True,\n",
       "    'dtype': 'float32',\n",
       "    'units': 32,\n",
       "    'activation': 'relu',\n",
       "    'use_bias': True,\n",
       "    'kernel_initializer': {'module': 'keras.initializers',\n",
       "     'class_name': 'GlorotUniform',\n",
       "     'config': {'seed': None},\n",
       "     'registered_name': None},\n",
       "    'bias_initializer': {'module': 'keras.initializers',\n",
       "     'class_name': 'Zeros',\n",
       "     'config': {},\n",
       "     'registered_name': None},\n",
       "    'kernel_regularizer': None,\n",
       "    'bias_regularizer': None,\n",
       "    'activity_regularizer': None,\n",
       "    'kernel_constraint': None,\n",
       "    'bias_constraint': None},\n",
       "   'registered_name': None,\n",
       "   'build_config': {'input_shape': (None, 128)}},\n",
       "  {'module': 'keras.layers',\n",
       "   'class_name': 'Dropout',\n",
       "   'config': {'name': 'dropout',\n",
       "    'trainable': True,\n",
       "    'dtype': 'float32',\n",
       "    'rate': 0.1,\n",
       "    'noise_shape': None,\n",
       "    'seed': None},\n",
       "   'registered_name': None,\n",
       "   'build_config': {'input_shape': (None, 32)}},\n",
       "  {'module': 'keras.layers',\n",
       "   'class_name': 'Dense',\n",
       "   'config': {'name': 'dense_2',\n",
       "    'trainable': True,\n",
       "    'dtype': 'float32',\n",
       "    'units': 1,\n",
       "    'activation': 'sigmoid',\n",
       "    'use_bias': True,\n",
       "    'kernel_initializer': {'module': 'keras.initializers',\n",
       "     'class_name': 'GlorotUniform',\n",
       "     'config': {'seed': None},\n",
       "     'registered_name': None},\n",
       "    'bias_initializer': {'module': 'keras.initializers',\n",
       "     'class_name': 'Zeros',\n",
       "     'config': {},\n",
       "     'registered_name': None},\n",
       "    'kernel_regularizer': None,\n",
       "    'bias_regularizer': None,\n",
       "    'activity_regularizer': None,\n",
       "    'kernel_constraint': None,\n",
       "    'bias_constraint': None},\n",
       "   'registered_name': None,\n",
       "   'build_config': {'input_shape': (None, 32)}}]}"
      ]
     },
     "execution_count": 598,
     "metadata": {},
     "output_type": "execute_result"
    }
   ],
   "source": [
    "# get hyperparameters of the best neural network model\n",
    "best_nn_model.get_config()"
   ]
  },
  {
   "cell_type": "code",
   "execution_count": 599,
   "id": "e28d16dd",
   "metadata": {},
   "outputs": [
    {
     "name": "stdout",
     "output_type": "stream",
     "text": [
      "Epoch 1/10\n",
      "7121/7121 [==============================] - 6823s 958ms/step - loss: 0.0023 - auc: 0.8728 - val_loss: 0.0034 - val_auc: 0.7909\n",
      "Epoch 2/10\n",
      "7121/7121 [==============================] - 36s 5ms/step - loss: 0.0020 - auc: 0.8860 - val_loss: 0.0035 - val_auc: 0.7606\n",
      "Epoch 3/10\n",
      "7121/7121 [==============================] - 38s 5ms/step - loss: 0.0019 - auc: 0.8960 - val_loss: 0.0036 - val_auc: 0.8013\n",
      "Epoch 4/10\n",
      "7121/7121 [==============================] - 38s 5ms/step - loss: 0.0018 - auc: 0.9040 - val_loss: 0.0042 - val_auc: 0.7804\n",
      "Epoch 5/10\n",
      "7121/7121 [==============================] - 38s 5ms/step - loss: 0.0018 - auc: 0.9087 - val_loss: 0.0037 - val_auc: 0.8023\n",
      "Epoch 6/10\n",
      "7121/7121 [==============================] - 39s 5ms/step - loss: 0.0017 - auc: 0.9178 - val_loss: 0.0039 - val_auc: 0.7587\n",
      "Epoch 7/10\n",
      "7121/7121 [==============================] - 38s 5ms/step - loss: 0.0015 - auc: 0.9209 - val_loss: 0.0040 - val_auc: 0.7684\n",
      "Epoch 8/10\n",
      "7121/7121 [==============================] - 37s 5ms/step - loss: 0.0014 - auc: 0.9277 - val_loss: 0.0040 - val_auc: 0.7635\n",
      "Epoch 9/10\n",
      "7121/7121 [==============================] - 37s 5ms/step - loss: 0.0012 - auc: 0.9420 - val_loss: 0.0046 - val_auc: 0.7340\n",
      "Epoch 10/10\n",
      "7121/7121 [==============================] - 37s 5ms/step - loss: 0.0015 - auc: 0.9334 - val_loss: 0.0046 - val_auc: 0.7824\n"
     ]
    },
    {
     "data": {
      "text/plain": [
       "<keras.src.callbacks.History at 0x1fb39cf3b80>"
      ]
     },
     "execution_count": 599,
     "metadata": {},
     "output_type": "execute_result"
    }
   ],
   "source": [
    "# Train the best neural network model further\n",
    "best_nn_model.fit(X_train, y_train, epochs=10, validation_data=(X_valid, y_valid))"
   ]
  },
  {
   "cell_type": "code",
   "execution_count": 600,
   "id": "3fdb247d",
   "metadata": {},
   "outputs": [
    {
     "name": "stdout",
     "output_type": "stream",
     "text": [
      "891/891 [==============================] - 3s 3ms/step\n"
     ]
    },
    {
     "data": {
      "image/png": "[encoded data removed]",
      "text/plain": [
       "<Figure size 1080x432 with 3 Axes>"
      ]
     },
     "metadata": {
      "needs_background": "light"
     },
     "output_type": "display_data"
    },
    {
     "name": "stdout",
     "output_type": "stream",
     "text": [
      "\n",
      "Classification Report:\n",
      "               precision    recall  f1-score   support\n",
      "\n",
      "           0       1.00      1.00      1.00     28441\n",
      "           1       0.88      0.72      0.79        40\n",
      "\n",
      "    accuracy                           1.00     28481\n",
      "   macro avg       0.94      0.86      0.90     28481\n",
      "weighted avg       1.00      1.00      1.00     28481\n",
      "\n"
     ]
    }
   ],
   "source": [
    "eval_model(best_nn_model)"
   ]
  },
  {
   "cell_type": "markdown",
   "id": "dfc4422c",
   "metadata": {},
   "source": [
    "The neural network is the best model with an AUC-PR of 0.7836. "
   ]
  },
  {
   "cell_type": "markdown",
   "id": "0fb2b41a",
   "metadata": {},
   "source": [
    "# Test final model\n",
    "\n",
    "Since the neural network model performed the best with the validation set, that'll be the model that gets tested with the test set."
   ]
  },
  {
   "cell_type": "code",
   "execution_count": 601,
   "id": "3a82609b",
   "metadata": {},
   "outputs": [
    {
     "name": "stdout",
     "output_type": "stream",
     "text": [
      "891/891 [==============================] - 3s 3ms/step\n"
     ]
    },
    {
     "data": {
      "image/png": "[encoded data removed]",
      "text/plain": [
       "<Figure size 1080x432 with 3 Axes>"
      ]
     },
     "metadata": {
      "needs_background": "light"
     },
     "output_type": "display_data"
    },
    {
     "name": "stdout",
     "output_type": "stream",
     "text": [
      "\n",
      "Classification Report:\n",
      "               precision    recall  f1-score   support\n",
      "\n",
      "           0       1.00      1.00      1.00     28433\n",
      "           1       0.97      0.77      0.86        48\n",
      "\n",
      "    accuracy                           1.00     28481\n",
      "   macro avg       0.99      0.89      0.93     28481\n",
      "weighted avg       1.00      1.00      1.00     28481\n",
      "\n"
     ]
    }
   ],
   "source": [
    "y_pred_proba = best_nn_model.predict(X_test).flatten()\n",
    "y_pred = (y_pred_proba >= 0.5).astype(int)\n",
    "\n",
    "cm = confusion_matrix(y_test, y_pred)\n",
    "classification_rep = classification_report(y_test, y_pred)\n",
    "\n",
    "fig, axes = plt.subplots(1, 2, figsize=(15, 6))\n",
    "\n",
    "# plotting precision-recall curve\n",
    "precision, recall, thresholds = precision_recall_curve(y_test, y_pred_proba)\n",
    "auc_pr = auc(recall, precision)\n",
    "axes[0].plot(recall, precision, color='blue', lw=2, label=f'AUC-PR = {auc_pr:.4f}')\n",
    "axes[0].set_xlabel('Recall')\n",
    "axes[0].set_ylabel('Precision')\n",
    "axes[0].set_title('Precision-Recall Curve')\n",
    "axes[0].legend(loc='lower left')\n",
    "\n",
    "# plotting confusion matrix\n",
    "sns.heatmap(cm, annot=True, fmt='d', cmap='Blues', annot_kws={\"size\": 16})\n",
    "axes[1].set_xlabel('Predicted')\n",
    "axes[1].set_ylabel('True')\n",
    "axes[1].set_title('Confusion Matrix')\n",
    "\n",
    "plt.show()\n",
    "\n",
    "print(\"\\nClassification Report:\\n\", classification_rep)"
   ]
  },
  {
   "cell_type": "markdown",
   "id": "fd568daf",
   "metadata": {},
   "source": [
    "The neural network model achieved an AUC-PR of 0.8366 on the test set. It was able to detect 77% of the fraudulent transactions while only incorrectly classifying 1 transaction as fraudulent out of the 28433 valid transactions. According to the Precision-Recall curve, if we lower the classification threshold, we can detect more than 80% of the fraudulent transactions at the expense of incorrectly classifying a few more of the valid transactions. "
   ]
  }
 ],
 "metadata": {
  "kernelspec": {
   "display_name": "Python 3 (ipykernel)",
   "language": "python",
   "name": "python3"
  },
  "language_info": {
   "codemirror_mode": {
    "name": "ipython",
    "version": 3
   },
   "file_extension": ".py",
   "mimetype": "text/x-python",
   "name": "python",
   "nbconvert_exporter": "python",
   "pygments_lexer": "ipython3",
   "version": "3.10.4"
  },
  "varInspector": {
   "cols": {
    "lenName": 16,
    "lenType": 16,
    "lenVar": 40
   },
   "kernels_config": {
    "python": {
     "delete_cmd_postfix": "",
     "delete_cmd_prefix": "del ",
     "library": "var_list.py",
     "varRefreshCmd": "print(var_dic_list())"
    },
    "r": {
     "delete_cmd_postfix": ") ",
     "delete_cmd_prefix": "rm(",
     "library": "var_list.r",
     "varRefreshCmd": "cat(var_dic_list()) "
    }
   },
   "types_to_exclude": [
    "module",
    "function",
    "builtin_function_or_method",
    "instance",
    "_Feature"
   ],
   "window_display": false
  }
 },
 "nbformat": 4,
 "nbformat_minor": 5
}
